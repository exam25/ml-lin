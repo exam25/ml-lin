{
 "cells": [
  {
   "cell_type": "code",
   "execution_count": null,
   "id": "ecab3fdb",
   "metadata": {},
   "outputs": [],
   "source": [
    "import pandas as pd\n",
    "import matplotlib.pyplot as plt"
   ]
  },
  {
   "cell_type": "code",
   "execution_count": null,
   "id": "241013d2",
   "metadata": {},
   "outputs": [],
   "source": [
    "df=pd.read_csv('Food-Truck-LineReg.csv')"
   ]
  },
  {
   "cell_type": "code",
   "execution_count": null,
   "id": "8d6e7a0b",
   "metadata": {},
   "outputs": [],
   "source": [
    "df.columns=['X','Y']"
   ]
  },
  {
   "cell_type": "code",
   "execution_count": null,
   "id": "dc13e948",
   "metadata": {},
   "outputs": [],
   "source": [
    "df.head()"
   ]
  },
  {
   "cell_type": "code",
   "execution_count": null,
   "id": "573e69ec",
   "metadata": {},
   "outputs": [],
   "source": [
    "x_mean=df['X'].mean()\n",
    "y_mean=df['Y'].mean()"
   ]
  },
  {
   "cell_type": "code",
   "execution_count": null,
   "id": "adda4ab1",
   "metadata": {},
   "outputs": [],
   "source": [
    "df['x']=df['X']-x_mean\n",
    "df['y']=df['Y']-y_mean\n",
    "df['xy']=df['x']*df['y']\n",
    "df['x2']=df['x']**2\n",
    "df['y2']=df['y']**2"
   ]
  },
  {
   "cell_type": "code",
   "execution_count": null,
   "id": "5f73d498",
   "metadata": {},
   "outputs": [],
   "source": [
    "df.head()"
   ]
  },
  {
   "cell_type": "code",
   "execution_count": null,
   "id": "2533eb01",
   "metadata": {},
   "outputs": [],
   "source": [
    "sum_xy=df['xy'].sum()\n",
    "sum_x2=df['x2'].sum()\n",
    "sum_y2=df['y2'].sum()"
   ]
  },
  {
   "cell_type": "code",
   "execution_count": null,
   "id": "552f7d73",
   "metadata": {},
   "outputs": [],
   "source": [
    "corr=sum_xy/(sum_x2*sum_y2)**0.5"
   ]
  },
  {
   "cell_type": "code",
   "execution_count": null,
   "id": "7eb7d247",
   "metadata": {},
   "outputs": [],
   "source": [
    "def mean(num):\n",
    "    sum=0\n",
    "    for i in range(len(num)):\n",
    "        sum+=i\n",
    "    return sum/len(num)\n",
    "\n",
    "def std(num):\n",
    "    n=len(num)\n",
    "    sum=0\n",
    "    for i in range(len(num)):\n",
    "        sum+=(num[i]-mean(num))**2\n",
    "    return ((sum/n)**0.5)"
   ]
  },
  {
   "cell_type": "code",
   "execution_count": null,
   "id": "08ca1782",
   "metadata": {},
   "outputs": [],
   "source": [
    "m=(corr*std(df['x'].tolist()))/std(df['y'].tolist())"
   ]
  },
  {
   "cell_type": "code",
   "execution_count": null,
   "id": "a9b1d1bb",
   "metadata": {},
   "outputs": [],
   "source": [
    "c=y_mean-(m*x_mean)"
   ]
  },
  {
   "cell_type": "code",
   "execution_count": null,
   "id": "67b94cda",
   "metadata": {},
   "outputs": [],
   "source": [
    "df['y_pred']=m*df['X']+c"
   ]
  },
  {
   "cell_type": "code",
   "execution_count": null,
   "id": "73a488ee",
   "metadata": {},
   "outputs": [],
   "source": [
    "plt.scatter(df['X'],df['Y'])\n",
    "plt.plot(df['X'],df['y_pred'],color='r')\n",
    "plt.show()"
   ]
  },
  {
   "cell_type": "code",
   "execution_count": null,
   "id": "c72d83be",
   "metadata": {},
   "outputs": [],
   "source": [
    "SSE=sum((df['Y']-df['y_pred'])**2)"
   ]
  },
  {
   "cell_type": "code",
   "execution_count": null,
   "id": "329126e6",
   "metadata": {},
   "outputs": [],
   "source": [
    "SSR=sum((df['y_pred']-mean(df['Y']))**2)"
   ]
  },
  {
   "cell_type": "code",
   "execution_count": null,
   "id": "0fb01073",
   "metadata": {},
   "outputs": [],
   "source": [
    "SST=sum((df['Y']-mean(df['Y']))**2)"
   ]
  },
  {
   "cell_type": "code",
   "execution_count": null,
   "id": "8d8840a4",
   "metadata": {},
   "outputs": [],
   "source": [
    "R2=SSR/SST\n",
    "cost=SSE/len(df)"
   ]
  },
  {
   "cell_type": "code",
   "execution_count": null,
   "id": "5cd42e09",
   "metadata": {},
   "outputs": [],
   "source": [
    "print (m,c,SSE,SSR,SST,R2,cost)"
   ]
  },
  {
   "cell_type": "code",
   "execution_count": null,
   "id": "0da3497a",
   "metadata": {},
   "outputs": [],
   "source": []
  }
 ],
 "metadata": {
  "kernelspec": {
   "display_name": "Python 3 (ipykernel)",
   "language": "python",
   "name": "python3"
  },
  "language_info": {
   "codemirror_mode": {
    "name": "ipython",
    "version": 3
   },
   "file_extension": ".py",
   "mimetype": "text/x-python",
   "name": "python",
   "nbconvert_exporter": "python",
   "pygments_lexer": "ipython3",
   "version": "3.11.4"
  }
 },
 "nbformat": 4,
 "nbformat_minor": 5
}
