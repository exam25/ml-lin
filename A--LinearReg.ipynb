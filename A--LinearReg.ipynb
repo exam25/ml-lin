{
 "cells": [
  {
   "cell_type": "code",
   "execution_count": 1,
   "id": "ecab3fdb",
   "metadata": {},
   "outputs": [],
   "source": [
    "import pandas as pd\n",
    "import matplotlib.pyplot as plt"
   ]
  },
  {
   "cell_type": "code",
   "execution_count": 2,
   "id": "241013d2",
   "metadata": {},
   "outputs": [],
   "source": [
    "df=pd.read_csv('Food-Truck-LineReg.csv')"
   ]
  },
  {
   "cell_type": "code",
   "execution_count": 4,
   "id": "8d6e7a0b",
   "metadata": {},
   "outputs": [],
   "source": [
    "df.columns=['X','Y']"
   ]
  },
  {
   "cell_type": "code",
   "execution_count": 5,
   "id": "dc13e948",
   "metadata": {},
   "outputs": [
    {
     "data": {
      "text/html": [
       "<div>\n",
       "<style scoped>\n",
       "    .dataframe tbody tr th:only-of-type {\n",
       "        vertical-align: middle;\n",
       "    }\n",
       "\n",
       "    .dataframe tbody tr th {\n",
       "        vertical-align: top;\n",
       "    }\n",
       "\n",
       "    .dataframe thead th {\n",
       "        text-align: right;\n",
       "    }\n",
       "</style>\n",
       "<table border=\"1\" class=\"dataframe\">\n",
       "  <thead>\n",
       "    <tr style=\"text-align: right;\">\n",
       "      <th></th>\n",
       "      <th>X</th>\n",
       "      <th>Y</th>\n",
       "    </tr>\n",
       "  </thead>\n",
       "  <tbody>\n",
       "    <tr>\n",
       "      <th>0</th>\n",
       "      <td>5.5277</td>\n",
       "      <td>9.1302</td>\n",
       "    </tr>\n",
       "    <tr>\n",
       "      <th>1</th>\n",
       "      <td>8.5186</td>\n",
       "      <td>13.6620</td>\n",
       "    </tr>\n",
       "    <tr>\n",
       "      <th>2</th>\n",
       "      <td>7.0032</td>\n",
       "      <td>11.8540</td>\n",
       "    </tr>\n",
       "    <tr>\n",
       "      <th>3</th>\n",
       "      <td>5.8598</td>\n",
       "      <td>6.8233</td>\n",
       "    </tr>\n",
       "    <tr>\n",
       "      <th>4</th>\n",
       "      <td>8.3829</td>\n",
       "      <td>11.8860</td>\n",
       "    </tr>\n",
       "  </tbody>\n",
       "</table>\n",
       "</div>"
      ],
      "text/plain": [
       "        X        Y\n",
       "0  5.5277   9.1302\n",
       "1  8.5186  13.6620\n",
       "2  7.0032  11.8540\n",
       "3  5.8598   6.8233\n",
       "4  8.3829  11.8860"
      ]
     },
     "execution_count": 5,
     "metadata": {},
     "output_type": "execute_result"
    }
   ],
   "source": [
    "df.head()"
   ]
  },
  {
   "cell_type": "code",
   "execution_count": 6,
   "id": "573e69ec",
   "metadata": {},
   "outputs": [],
   "source": [
    "x_mean=df['X'].mean()\n",
    "y_mean=df['Y'].mean()"
   ]
  },
  {
   "cell_type": "code",
   "execution_count": 7,
   "id": "adda4ab1",
   "metadata": {},
   "outputs": [],
   "source": [
    "df['x']=df['X']-x_mean\n",
    "df['y']=df['Y']-y_mean\n",
    "df['xy']=df['x']*df['y']\n",
    "df['x2']=df['x']**2\n",
    "df['y2']=df['y']**2"
   ]
  },
  {
   "cell_type": "code",
   "execution_count": 9,
   "id": "5f73d498",
   "metadata": {},
   "outputs": [
    {
     "data": {
      "text/html": [
       "<div>\n",
       "<style scoped>\n",
       "    .dataframe tbody tr th:only-of-type {\n",
       "        vertical-align: middle;\n",
       "    }\n",
       "\n",
       "    .dataframe tbody tr th {\n",
       "        vertical-align: top;\n",
       "    }\n",
       "\n",
       "    .dataframe thead th {\n",
       "        text-align: right;\n",
       "    }\n",
       "</style>\n",
       "<table border=\"1\" class=\"dataframe\">\n",
       "  <thead>\n",
       "    <tr style=\"text-align: right;\">\n",
       "      <th></th>\n",
       "      <th>X</th>\n",
       "      <th>Y</th>\n",
       "      <th>x</th>\n",
       "      <th>y</th>\n",
       "      <th>xy</th>\n",
       "      <th>x2</th>\n",
       "      <th>y2</th>\n",
       "    </tr>\n",
       "  </thead>\n",
       "  <tbody>\n",
       "    <tr>\n",
       "      <th>0</th>\n",
       "      <td>5.5277</td>\n",
       "      <td>9.1302</td>\n",
       "      <td>-2.653451</td>\n",
       "      <td>3.413491</td>\n",
       "      <td>-9.057530</td>\n",
       "      <td>7.040802</td>\n",
       "      <td>11.651918</td>\n",
       "    </tr>\n",
       "    <tr>\n",
       "      <th>1</th>\n",
       "      <td>8.5186</td>\n",
       "      <td>13.6620</td>\n",
       "      <td>0.337449</td>\n",
       "      <td>7.945291</td>\n",
       "      <td>2.681130</td>\n",
       "      <td>0.113872</td>\n",
       "      <td>63.127643</td>\n",
       "    </tr>\n",
       "    <tr>\n",
       "      <th>2</th>\n",
       "      <td>7.0032</td>\n",
       "      <td>11.8540</td>\n",
       "      <td>-1.177951</td>\n",
       "      <td>6.137291</td>\n",
       "      <td>-7.229428</td>\n",
       "      <td>1.387569</td>\n",
       "      <td>37.666336</td>\n",
       "    </tr>\n",
       "    <tr>\n",
       "      <th>3</th>\n",
       "      <td>5.8598</td>\n",
       "      <td>6.8233</td>\n",
       "      <td>-2.321351</td>\n",
       "      <td>1.106591</td>\n",
       "      <td>-2.568785</td>\n",
       "      <td>5.388671</td>\n",
       "      <td>1.224543</td>\n",
       "    </tr>\n",
       "    <tr>\n",
       "      <th>4</th>\n",
       "      <td>8.3829</td>\n",
       "      <td>11.8860</td>\n",
       "      <td>0.201749</td>\n",
       "      <td>6.169291</td>\n",
       "      <td>1.244648</td>\n",
       "      <td>0.040703</td>\n",
       "      <td>38.060147</td>\n",
       "    </tr>\n",
       "  </tbody>\n",
       "</table>\n",
       "</div>"
      ],
      "text/plain": [
       "        X        Y         x         y        xy        x2         y2\n",
       "0  5.5277   9.1302 -2.653451  3.413491 -9.057530  7.040802  11.651918\n",
       "1  8.5186  13.6620  0.337449  7.945291  2.681130  0.113872  63.127643\n",
       "2  7.0032  11.8540 -1.177951  6.137291 -7.229428  1.387569  37.666336\n",
       "3  5.8598   6.8233 -2.321351  1.106591 -2.568785  5.388671   1.224543\n",
       "4  8.3829  11.8860  0.201749  6.169291  1.244648  0.040703  38.060147"
      ]
     },
     "execution_count": 9,
     "metadata": {},
     "output_type": "execute_result"
    }
   ],
   "source": [
    "df.head()"
   ]
  },
  {
   "cell_type": "code",
   "execution_count": 10,
   "id": "2533eb01",
   "metadata": {},
   "outputs": [],
   "source": [
    "sum_xy=df['xy'].sum()\n",
    "sum_x2=df['x2'].sum()\n",
    "sum_y2=df['y2'].sum()"
   ]
  },
  {
   "cell_type": "code",
   "execution_count": 11,
   "id": "552f7d73",
   "metadata": {},
   "outputs": [],
   "source": [
    "corr=sum_xy/(sum_x2*sum_y2)**0.5"
   ]
  },
  {
   "cell_type": "code",
   "execution_count": 25,
   "id": "7eb7d247",
   "metadata": {},
   "outputs": [],
   "source": [
    "def mean(num):\n",
    "    sum=0\n",
    "    for i in range(len(num)):\n",
    "        sum+=i\n",
    "    return sum/len(num)\n",
    "\n",
    "def std(num):\n",
    "    n=len(num)\n",
    "    sum=0\n",
    "    for i in range(len(num)):\n",
    "        sum+=(num[i]-mean(num))**2\n",
    "    return ((sum/n)**0.5)"
   ]
  },
  {
   "cell_type": "code",
   "execution_count": 27,
   "id": "08ca1782",
   "metadata": {},
   "outputs": [],
   "source": [
    "m=(corr*std(df['x'].tolist()))/std(df['y'].tolist())"
   ]
  },
  {
   "cell_type": "code",
   "execution_count": 28,
   "id": "a9b1d1bb",
   "metadata": {},
   "outputs": [],
   "source": [
    "c=y_mean-(m*x_mean)"
   ]
  },
  {
   "cell_type": "code",
   "execution_count": 29,
   "id": "67b94cda",
   "metadata": {},
   "outputs": [],
   "source": [
    "df['y_pred']=m*df['X']+c"
   ]
  },
  {
   "cell_type": "code",
   "execution_count": 31,
   "id": "73a488ee",
   "metadata": {},
   "outputs": [
    {
     "data": {
      "image/png": "[encoded data removed]",
      "text/plain": [
       "<Figure size 640x480 with 1 Axes>"
      ]
     },
     "metadata": {},
     "output_type": "display_data"
    }
   ],
   "source": [
    "plt.scatter(df['X'],df['Y'])\n",
    "plt.plot(df['X'],df['y_pred'],color='r')\n",
    "plt.show()"
   ]
  },
  {
   "cell_type": "code",
   "execution_count": 32,
   "id": "c72d83be",
   "metadata": {},
   "outputs": [],
   "source": [
    "SSE=sum((df['Y']-df['y_pred'])**2)"
   ]
  },
  {
   "cell_type": "code",
   "execution_count": 33,
   "id": "329126e6",
   "metadata": {},
   "outputs": [],
   "source": [
    "SSR=sum((df['y_pred']-mean(df['Y']))**2)"
   ]
  },
  {
   "cell_type": "code",
   "execution_count": 34,
   "id": "0fb01073",
   "metadata": {},
   "outputs": [],
   "source": [
    "SST=sum((df['Y']-mean(df['Y']))**2)"
   ]
  },
  {
   "cell_type": "code",
   "execution_count": 35,
   "id": "8d8840a4",
   "metadata": {},
   "outputs": [],
   "source": [
    "R2=SSR/SST\n",
    "cost=SSE/len(df)"
   ]
  },
  {
   "cell_type": "code",
   "execution_count": 36,
   "id": "5cd42e09",
   "metadata": {},
   "outputs": [
    {
     "name": "stdout",
     "output_type": "stream",
     "text": [
      "0.8694858886253549 -1.3966860084417956 833.9290868885098 -4011.1959000000006 170376.2424082264 -0.023543164488796856 8.686761321755311\n"
     ]
    }
   ],
   "source": [
    "print (m,c,SSE,SSR,SST,R2,cost)"
   ]
  },
  {
   "cell_type": "code",
   "execution_count": null,
   "id": "0da3497a",
   "metadata": {},
   "outputs": [],
   "source": []
  }
 ],
 "metadata": {
  "kernelspec": {
   "display_name": "Python 3 (ipykernel)",
   "language": "python",
   "name": "python3"
  },
  "language_info": {
   "codemirror_mode": {
    "name": "ipython",
    "version": 3
   },
   "file_extension": ".py",
   "mimetype": "text/x-python",
   "name": "python",
   "nbconvert_exporter": "python",
   "pygments_lexer": "ipython3",
   "version": "3.11.4"
  }
 },
 "nbformat": 4,
 "nbformat_minor": 5
}
